{
 "cells": [
  {
   "cell_type": "code",
   "execution_count": 1,
   "metadata": {},
   "outputs": [
    {
     "name": "stdout",
     "output_type": "stream",
     "text": [
      "hi\n"
     ]
    }
   ],
   "source": [
    "print(\"hi\")"
   ]
  },
  {
   "cell_type": "code",
   "execution_count": 31,
   "metadata": {},
   "outputs": [],
   "source": [
    "import requests\n",
    "from pprint import pprint"
   ]
  },
  {
   "cell_type": "code",
   "execution_count": 32,
   "metadata": {},
   "outputs": [
    {
     "name": "stdout",
     "output_type": "stream",
     "text": [
      "{'choices': [{'finish_reason': 'stop',\n",
      "              'index': 0,\n",
      "              'message': {'content': \"Why couldn't the bicycle stand up by \"\n",
      "                                     'itself?\\n'\n",
      "                                     '\\n'\n",
      "                                     '(Wait for it...)\\n'\n",
      "                                     '\\n'\n",
      "                                     'Because it was two-tired! (get it?)',\n",
      "                          'role': 'assistant'}}],\n",
      " 'created': 1735815629,\n",
      " 'id': 'chatcmpl-735',\n",
      " 'model': 'Llama3.2',\n",
      " 'object': 'chat.completion',\n",
      " 'system_fingerprint': 'fp_ollama',\n",
      " 'usage': {'completion_tokens': 27, 'prompt_tokens': 30, 'total_tokens': 57}}\n"
     ]
    }
   ],
   "source": [
    "messages = [{\"role\": \"user\", \"content\": \"Tell me a joke!\"}]\n",
    "\n",
    "prompt_headers = {\"Authorization\": \"Bearer your_api_key_here\"}\n",
    "\n",
    "stream_mode = False\n",
    "data = {\n",
    "    \"model\": \"Llama3.2\",\n",
    "    \"stream\": stream_mode,\n",
    "    \"messages\": messages,\n",
    "}\n",
    "\n",
    "\n",
    "# Perform the request and process the stream\n",
    "\n",
    "with requests.post(\n",
    "    \"http://127.0.0.1:11434/v1/chat/completions\",\n",
    "    headers=prompt_headers,\n",
    "    json=data,\n",
    "    stream=stream_mode,\n",
    ") as response:\n",
    "    pprint(response.json())  "
   ]
  },
  {
   "cell_type": "markdown",
   "metadata": {},
   "source": []
  },
  {
   "cell_type": "code",
   "execution_count": null,
   "metadata": {},
   "outputs": [
    {
     "name": "stdout",
     "output_type": "stream",
     "text": [
      "data: {\"id\":\"chatcmpl-697\",\"object\":\"chat.completion.chunk\",\"created\":1735815750,\"model\":\"Llama3.2\",\"system_fingerprint\":\"fp_ollama\",\"choices\":[{\"index\":0,\"delta\":{\"role\":\"assistant\",\"content\":\"Here\"},\"finish_reason\":null}]}\n",
      "data: {\"id\":\"chatcmpl-697\",\"object\":\"chat.completion.chunk\",\"created\":1735815750,\"model\":\"Llama3.2\",\"system_fingerprint\":\"fp_ollama\",\"choices\":[{\"index\":0,\"delta\":{\"role\":\"assistant\",\"content\":\"'s\"},\"finish_reason\":null}]}\n",
      "data: {\"id\":\"chatcmpl-697\",\"object\":\"chat.completion.chunk\",\"created\":1735815750,\"model\":\"Llama3.2\",\"system_fingerprint\":\"fp_ollama\",\"choices\":[{\"index\":0,\"delta\":{\"role\":\"assistant\",\"content\":\" one\"},\"finish_reason\":null}]}\n",
      "data: {\"id\":\"chatcmpl-697\",\"object\":\"chat.completion.chunk\",\"created\":1735815750,\"model\":\"Llama3.2\",\"system_fingerprint\":\"fp_ollama\",\"choices\":[{\"index\":0,\"delta\":{\"role\":\"assistant\",\"content\":\":\\n\\n\"},\"finish_reason\":null}]}\n",
      "data: {\"id\":\"chatcmpl-697\",\"object\":\"chat.completion.chunk\",\"created\":1735815750,\"model\":\"Llama3.2\",\"system_fingerprint\":\"fp_ollama\",\"choices\":[{\"index\":0,\"delta\":{\"role\":\"assistant\",\"content\":\"What\"},\"finish_reason\":null}]}\n",
      "data: {\"id\":\"chatcmpl-697\",\"object\":\"chat.completion.chunk\",\"created\":1735815750,\"model\":\"Llama3.2\",\"system_fingerprint\":\"fp_ollama\",\"choices\":[{\"index\":0,\"delta\":{\"role\":\"assistant\",\"content\":\" do\"},\"finish_reason\":null}]}\n",
      "data: {\"id\":\"chatcmpl-697\",\"object\":\"chat.completion.chunk\",\"created\":1735815750,\"model\":\"Llama3.2\",\"system_fingerprint\":\"fp_ollama\",\"choices\":[{\"index\":0,\"delta\":{\"role\":\"assistant\",\"content\":\" you\"},\"finish_reason\":null}]}\n",
      "data: {\"id\":\"chatcmpl-697\",\"object\":\"chat.completion.chunk\",\"created\":1735815750,\"model\":\"Llama3.2\",\"system_fingerprint\":\"fp_ollama\",\"choices\":[{\"index\":0,\"delta\":{\"role\":\"assistant\",\"content\":\" call\"},\"finish_reason\":null}]}\n",
      "data: {\"id\":\"chatcmpl-697\",\"object\":\"chat.completion.chunk\",\"created\":1735815750,\"model\":\"Llama3.2\",\"system_fingerprint\":\"fp_ollama\",\"choices\":[{\"index\":0,\"delta\":{\"role\":\"assistant\",\"content\":\" a\"},\"finish_reason\":null}]}\n",
      "data: {\"id\":\"chatcmpl-697\",\"object\":\"chat.completion.chunk\",\"created\":1735815750,\"model\":\"Llama3.2\",\"system_fingerprint\":\"fp_ollama\",\"choices\":[{\"index\":0,\"delta\":{\"role\":\"assistant\",\"content\":\" fake\"},\"finish_reason\":null}]}\n",
      "data: {\"id\":\"chatcmpl-697\",\"object\":\"chat.completion.chunk\",\"created\":1735815750,\"model\":\"Llama3.2\",\"system_fingerprint\":\"fp_ollama\",\"choices\":[{\"index\":0,\"delta\":{\"role\":\"assistant\",\"content\":\" nood\"},\"finish_reason\":null}]}\n",
      "data: {\"id\":\"chatcmpl-697\",\"object\":\"chat.completion.chunk\",\"created\":1735815750,\"model\":\"Llama3.2\",\"system_fingerprint\":\"fp_ollama\",\"choices\":[{\"index\":0,\"delta\":{\"role\":\"assistant\",\"content\":\"le\"},\"finish_reason\":null}]}\n",
      "data: {\"id\":\"chatcmpl-697\",\"object\":\"chat.completion.chunk\",\"created\":1735815750,\"model\":\"Llama3.2\",\"system_fingerprint\":\"fp_ollama\",\"choices\":[{\"index\":0,\"delta\":{\"role\":\"assistant\",\"content\":\"?\\n\\n\"},\"finish_reason\":null}]}\n",
      "data: {\"id\":\"chatcmpl-697\",\"object\":\"chat.completion.chunk\",\"created\":1735815750,\"model\":\"Llama3.2\",\"system_fingerprint\":\"fp_ollama\",\"choices\":[{\"index\":0,\"delta\":{\"role\":\"assistant\",\"content\":\"(wait\"},\"finish_reason\":null}]}\n",
      "data: {\"id\":\"chatcmpl-697\",\"object\":\"chat.completion.chunk\",\"created\":1735815750,\"model\":\"Llama3.2\",\"system_fingerprint\":\"fp_ollama\",\"choices\":[{\"index\":0,\"delta\":{\"role\":\"assistant\",\"content\":\" for\"},\"finish_reason\":null}]}\n",
      "data: {\"id\":\"chatcmpl-697\",\"object\":\"chat.completion.chunk\",\"created\":1735815750,\"model\":\"Llama3.2\",\"system_fingerprint\":\"fp_ollama\",\"choices\":[{\"index\":0,\"delta\":{\"role\":\"assistant\",\"content\":\" it\"},\"finish_reason\":null}]}\n",
      "data: {\"id\":\"chatcmpl-697\",\"object\":\"chat.completion.chunk\",\"created\":1735815750,\"model\":\"Llama3.2\",\"system_fingerprint\":\"fp_ollama\",\"choices\":[{\"index\":0,\"delta\":{\"role\":\"assistant\",\"content\":\"...)\\n\\n\"},\"finish_reason\":null}]}\n",
      "data: {\"id\":\"chatcmpl-697\",\"object\":\"chat.completion.chunk\",\"created\":1735815750,\"model\":\"Llama3.2\",\"system_fingerprint\":\"fp_ollama\",\"choices\":[{\"index\":0,\"delta\":{\"role\":\"assistant\",\"content\":\"An\"},\"finish_reason\":null}]}\n",
      "data: {\"id\":\"chatcmpl-697\",\"object\":\"chat.completion.chunk\",\"created\":1735815750,\"model\":\"Llama3.2\",\"system_fingerprint\":\"fp_ollama\",\"choices\":[{\"index\":0,\"delta\":{\"role\":\"assistant\",\"content\":\" imp\"},\"finish_reason\":null}]}\n",
      "data: {\"id\":\"chatcmpl-697\",\"object\":\"chat.completion.chunk\",\"created\":1735815750,\"model\":\"Llama3.2\",\"system_fingerprint\":\"fp_ollama\",\"choices\":[{\"index\":0,\"delta\":{\"role\":\"assistant\",\"content\":\"asta\"},\"finish_reason\":null}]}\n",
      "data: {\"id\":\"chatcmpl-697\",\"object\":\"chat.completion.chunk\",\"created\":1735815750,\"model\":\"Llama3.2\",\"system_fingerprint\":\"fp_ollama\",\"choices\":[{\"index\":0,\"delta\":{\"role\":\"assistant\",\"content\":\"!\\n\\n\"},\"finish_reason\":null}]}\n",
      "data: {\"id\":\"chatcmpl-697\",\"object\":\"chat.completion.chunk\",\"created\":1735815750,\"model\":\"Llama3.2\",\"system_fingerprint\":\"fp_ollama\",\"choices\":[{\"index\":0,\"delta\":{\"role\":\"assistant\",\"content\":\"Hope\"},\"finish_reason\":null}]}\n",
      "data: {\"id\":\"chatcmpl-697\",\"object\":\"chat.completion.chunk\",\"created\":1735815750,\"model\":\"Llama3.2\",\"system_fingerprint\":\"fp_ollama\",\"choices\":[{\"index\":0,\"delta\":{\"role\":\"assistant\",\"content\":\" that\"},\"finish_reason\":null}]}\n",
      "data: {\"id\":\"chatcmpl-697\",\"object\":\"chat.completion.chunk\",\"created\":1735815750,\"model\":\"Llama3.2\",\"system_fingerprint\":\"fp_ollama\",\"choices\":[{\"index\":0,\"delta\":{\"role\":\"assistant\",\"content\":\" made\"},\"finish_reason\":null}]}\n",
      "data: {\"id\":\"chatcmpl-697\",\"object\":\"chat.completion.chunk\",\"created\":1735815750,\"model\":\"Llama3.2\",\"system_fingerprint\":\"fp_ollama\",\"choices\":[{\"index\":0,\"delta\":{\"role\":\"assistant\",\"content\":\" you\"},\"finish_reason\":null}]}\n",
      "data: {\"id\":\"chatcmpl-697\",\"object\":\"chat.completion.chunk\",\"created\":1735815750,\"model\":\"Llama3.2\",\"system_fingerprint\":\"fp_ollama\",\"choices\":[{\"index\":0,\"delta\":{\"role\":\"assistant\",\"content\":\" laugh\"},\"finish_reason\":null}]}\n",
      "data: {\"id\":\"chatcmpl-697\",\"object\":\"chat.completion.chunk\",\"created\":1735815750,\"model\":\"Llama3.2\",\"system_fingerprint\":\"fp_ollama\",\"choices\":[{\"index\":0,\"delta\":{\"role\":\"assistant\",\"content\":\"!\"},\"finish_reason\":null}]}\n",
      "data: {\"id\":\"chatcmpl-697\",\"object\":\"chat.completion.chunk\",\"created\":1735815750,\"model\":\"Llama3.2\",\"system_fingerprint\":\"fp_ollama\",\"choices\":[{\"index\":0,\"delta\":{\"role\":\"assistant\",\"content\":\" Do\"},\"finish_reason\":null}]}\n",
      "data: {\"id\":\"chatcmpl-697\",\"object\":\"chat.completion.chunk\",\"created\":1735815750,\"model\":\"Llama3.2\",\"system_fingerprint\":\"fp_ollama\",\"choices\":[{\"index\":0,\"delta\":{\"role\":\"assistant\",\"content\":\" you\"},\"finish_reason\":null}]}\n",
      "data: {\"id\":\"chatcmpl-697\",\"object\":\"chat.completion.chunk\",\"created\":1735815750,\"model\":\"Llama3.2\",\"system_fingerprint\":\"fp_ollama\",\"choices\":[{\"index\":0,\"delta\":{\"role\":\"assistant\",\"content\":\" want\"},\"finish_reason\":null}]}\n",
      "data: {\"id\":\"chatcmpl-697\",\"object\":\"chat.completion.chunk\",\"created\":1735815750,\"model\":\"Llama3.2\",\"system_fingerprint\":\"fp_ollama\",\"choices\":[{\"index\":0,\"delta\":{\"role\":\"assistant\",\"content\":\" to\"},\"finish_reason\":null}]}\n",
      "data: {\"id\":\"chatcmpl-697\",\"object\":\"chat.completion.chunk\",\"created\":1735815750,\"model\":\"Llama3.2\",\"system_fingerprint\":\"fp_ollama\",\"choices\":[{\"index\":0,\"delta\":{\"role\":\"assistant\",\"content\":\" hear\"},\"finish_reason\":null}]}\n",
      "data: {\"id\":\"chatcmpl-697\",\"object\":\"chat.completion.chunk\",\"created\":1735815750,\"model\":\"Llama3.2\",\"system_fingerprint\":\"fp_ollama\",\"choices\":[{\"index\":0,\"delta\":{\"role\":\"assistant\",\"content\":\" another\"},\"finish_reason\":null}]}\n",
      "data: {\"id\":\"chatcmpl-697\",\"object\":\"chat.completion.chunk\",\"created\":1735815750,\"model\":\"Llama3.2\",\"system_fingerprint\":\"fp_ollama\",\"choices\":[{\"index\":0,\"delta\":{\"role\":\"assistant\",\"content\":\" one\"},\"finish_reason\":null}]}\n",
      "data: {\"id\":\"chatcmpl-697\",\"object\":\"chat.completion.chunk\",\"created\":1735815750,\"model\":\"Llama3.2\",\"system_fingerprint\":\"fp_ollama\",\"choices\":[{\"index\":0,\"delta\":{\"role\":\"assistant\",\"content\":\"?\"},\"finish_reason\":null}]}\n",
      "data: {\"id\":\"chatcmpl-697\",\"object\":\"chat.completion.chunk\",\"created\":1735815750,\"model\":\"Llama3.2\",\"system_fingerprint\":\"fp_ollama\",\"choices\":[{\"index\":0,\"delta\":{\"role\":\"assistant\",\"content\":\"\"},\"finish_reason\":\"stop\"}]}\n",
      "data: [DONE]\n"
     ]
    }
   ],
   "source": [
    "messages = [{\"role\": \"user\", \"content\": \"Tell me a joke!\"}]\n",
    "\n",
    "prompt_headers = {\"Authorization\": \"Bearer your_api_key_here\"}\n",
    "\n",
    "stream_mode = True\n",
    "data = {\n",
    "    \"model\": \"Llama3.2\",\n",
    "    \"stream\": stream_mode,\n",
    "    \"messages\": messages,\n",
    "}\n",
    "\n",
    "\n",
    "# Perform the request and process the stream\n",
    "\n",
    "with requests.post(\n",
    "    \"http://127.0.0.1:11434/v1/chat/completions\",\n",
    "    headers=prompt_headers,\n",
    "    json=data,\n",
    "    stream=stream_mode,\n",
    ") as response:\n",
    "    for line in response.iter_lines():\n",
    "        if line:  # Filter out empty keep-alive new lines\n",
    "            print(line.decode())"
   ]
  },
  {
   "cell_type": "code",
   "execution_count": 38,
   "metadata": {},
   "outputs": [
    {
     "name": "stdout",
     "output_type": "stream",
     "text": [
      "{'choices': [{'finish_reason': 'stop',\n",
      "              'index': 0,\n",
      "              'text': 'A man walked into a library and asked the librarian, '\n",
      "                      '\"Do you have any books on Pavlov\\'s dogs and '\n",
      "                      'Schrödinger\\'s cat?\" The librarian replied, \"It rings a '\n",
      "                      'bell, but I\\'m not sure if it\\'s here or not.\"'}],\n",
      " 'created': 1735815846,\n",
      " 'id': 'cmpl-216',\n",
      " 'model': 'Llama3.2',\n",
      " 'object': 'text_completion',\n",
      " 'system_fingerprint': 'fp_ollama',\n",
      " 'usage': {'completion_tokens': 54, 'prompt_tokens': 30, 'total_tokens': 84}}\n"
     ]
    }
   ],
   "source": [
    "prompt = \"Tell me a joke!\"\n",
    "\n",
    "prompt_headers = {\"Authorization\": \"Bearer your_api_key_here\"}\n",
    "\n",
    "stream_mode = False\n",
    "data = {\n",
    "    \"model\": \"Llama3.2\",\n",
    "    \"stream\": stream_mode,\n",
    "    \"prompt\": prompt,\n",
    "}\n",
    "\n",
    "\n",
    "# Perform the request and process the stream\n",
    "\n",
    "with requests.post(\n",
    "    \"http://127.0.0.1:11434/v1/completions\",\n",
    "    headers=prompt_headers,\n",
    "    json=data,\n",
    "    stream=stream_mode,\n",
    ") as response:\n",
    "    pprint(response.json())  "
   ]
  },
  {
   "cell_type": "code",
   "execution_count": 48,
   "metadata": {},
   "outputs": [
    {
     "name": "stdout",
     "output_type": "stream",
     "text": [
      "data: {\"id\":\"cmpl-135\",\"object\":\"text_completion\",\"created\":1735815982,\"choices\":[{\"text\":\"Why\",\"index\":0,\"finish_reason\":null}],\"model\":\"Llama3.2\",\"system_fingerprint\":\"fp_ollama\"}\n",
      "data: {\"id\":\"cmpl-135\",\"object\":\"text_completion\",\"created\":1735815982,\"choices\":[{\"text\":\" don\",\"index\":0,\"finish_reason\":null}],\"model\":\"Llama3.2\",\"system_fingerprint\":\"fp_ollama\"}\n",
      "data: {\"id\":\"cmpl-135\",\"object\":\"text_completion\",\"created\":1735815982,\"choices\":[{\"text\":\"'t\",\"index\":0,\"finish_reason\":null}],\"model\":\"Llama3.2\",\"system_fingerprint\":\"fp_ollama\"}\n",
      "data: {\"id\":\"cmpl-135\",\"object\":\"text_completion\",\"created\":1735815982,\"choices\":[{\"text\":\" skeletons\",\"index\":0,\"finish_reason\":null}],\"model\":\"Llama3.2\",\"system_fingerprint\":\"fp_ollama\"}\n",
      "data: {\"id\":\"cmpl-135\",\"object\":\"text_completion\",\"created\":1735815982,\"choices\":[{\"text\":\" fight\",\"index\":0,\"finish_reason\":null}],\"model\":\"Llama3.2\",\"system_fingerprint\":\"fp_ollama\"}\n",
      "data: {\"id\":\"cmpl-135\",\"object\":\"text_completion\",\"created\":1735815982,\"choices\":[{\"text\":\" each\",\"index\":0,\"finish_reason\":null}],\"model\":\"Llama3.2\",\"system_fingerprint\":\"fp_ollama\"}\n",
      "data: {\"id\":\"cmpl-135\",\"object\":\"text_completion\",\"created\":1735815982,\"choices\":[{\"text\":\" other\",\"index\":0,\"finish_reason\":null}],\"model\":\"Llama3.2\",\"system_fingerprint\":\"fp_ollama\"}\n",
      "data: {\"id\":\"cmpl-135\",\"object\":\"text_completion\",\"created\":1735815982,\"choices\":[{\"text\":\"?\\n\\n\",\"index\":0,\"finish_reason\":null}],\"model\":\"Llama3.2\",\"system_fingerprint\":\"fp_ollama\"}\n",
      "data: {\"id\":\"cmpl-135\",\"object\":\"text_completion\",\"created\":1735815982,\"choices\":[{\"text\":\"Because\",\"index\":0,\"finish_reason\":null}],\"model\":\"Llama3.2\",\"system_fingerprint\":\"fp_ollama\"}\n",
      "data: {\"id\":\"cmpl-135\",\"object\":\"text_completion\",\"created\":1735815982,\"choices\":[{\"text\":\" they\",\"index\":0,\"finish_reason\":null}],\"model\":\"Llama3.2\",\"system_fingerprint\":\"fp_ollama\"}\n",
      "data: {\"id\":\"cmpl-135\",\"object\":\"text_completion\",\"created\":1735815982,\"choices\":[{\"text\":\" don\",\"index\":0,\"finish_reason\":null}],\"model\":\"Llama3.2\",\"system_fingerprint\":\"fp_ollama\"}\n",
      "data: {\"id\":\"cmpl-135\",\"object\":\"text_completion\",\"created\":1735815982,\"choices\":[{\"text\":\"'t\",\"index\":0,\"finish_reason\":null}],\"model\":\"Llama3.2\",\"system_fingerprint\":\"fp_ollama\"}\n",
      "data: {\"id\":\"cmpl-135\",\"object\":\"text_completion\",\"created\":1735815982,\"choices\":[{\"text\":\" have\",\"index\":0,\"finish_reason\":null}],\"model\":\"Llama3.2\",\"system_fingerprint\":\"fp_ollama\"}\n",
      "data: {\"id\":\"cmpl-135\",\"object\":\"text_completion\",\"created\":1735815982,\"choices\":[{\"text\":\" the\",\"index\":0,\"finish_reason\":null}],\"model\":\"Llama3.2\",\"system_fingerprint\":\"fp_ollama\"}\n",
      "data: {\"id\":\"cmpl-135\",\"object\":\"text_completion\",\"created\":1735815982,\"choices\":[{\"text\":\" guts\",\"index\":0,\"finish_reason\":null}],\"model\":\"Llama3.2\",\"system_fingerprint\":\"fp_ollama\"}\n",
      "data: {\"id\":\"cmpl-135\",\"object\":\"text_completion\",\"created\":1735815982,\"choices\":[{\"text\":\".\",\"index\":0,\"finish_reason\":null}],\"model\":\"Llama3.2\",\"system_fingerprint\":\"fp_ollama\"}\n",
      "data: {\"id\":\"cmpl-135\",\"object\":\"text_completion\",\"created\":1735815982,\"choices\":[{\"text\":\"\",\"index\":0,\"finish_reason\":\"stop\"}],\"model\":\"Llama3.2\",\"system_fingerprint\":\"fp_ollama\"}\n",
      "data: [DONE]\n"
     ]
    }
   ],
   "source": [
    "prompt = \"Tell me a joke!\"\n",
    "\n",
    "prompt_headers = {\"Authorization\": \"Bearer your_api_key_here\"}\n",
    "\n",
    "stream_mode = True\n",
    "data = {\n",
    "    \"model\": \"Llama3.2\",\n",
    "    \"stream\": stream_mode,\n",
    "    \"prompt\": prompt,\n",
    "}\n",
    "\n",
    "\n",
    "# Perform the request and process the stream\n",
    "\n",
    "with requests.post(\n",
    "    \"http://127.0.0.1:11434/v1/completions\",\n",
    "    headers=prompt_headers,\n",
    "    json=data,\n",
    "    stream=stream_mode,\n",
    ") as response:\n",
    "    for line in response.iter_lines():\n",
    "        if line:  # Filter out empty keep-alive new lines\n",
    "            print(line.decode())"
   ]
  },
  {
   "cell_type": "code",
   "execution_count": null,
   "metadata": {},
   "outputs": [],
   "source": []
  }
 ],
 "metadata": {
  "kernelspec": {
   "display_name": ".venv",
   "language": "python",
   "name": "python3"
  },
  "language_info": {
   "codemirror_mode": {
    "name": "ipython",
    "version": 3
   },
   "file_extension": ".py",
   "mimetype": "text/x-python",
   "name": "python",
   "nbconvert_exporter": "python",
   "pygments_lexer": "ipython3",
   "version": "3.12.8"
  }
 },
 "nbformat": 4,
 "nbformat_minor": 2
}
