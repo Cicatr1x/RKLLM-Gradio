{
 "cells": [
  {
   "cell_type": "code",
   "execution_count": 1,
   "metadata": {},
   "outputs": [
    {
     "name": "stdout",
     "output_type": "stream",
     "text": [
      "hi\n"
     ]
    }
   ],
   "source": [
    "print(\"hi\")"
   ]
  },
  {
   "cell_type": "code",
   "execution_count": 2,
   "metadata": {},
   "outputs": [],
   "source": [
    "import requests"
   ]
  },
  {
   "cell_type": "code",
   "execution_count": 18,
   "metadata": {},
   "outputs": [
    {
     "name": "stdout",
     "output_type": "stream",
     "text": [
      "b'{\"id\":\"cmpl-UVZQh06UaRz8RAmUSkoFwejI\",\"object\":\"chat.completion\",\"created\":1735751643,\"model\":\"Llama-3.2-Instruct-1B\",\"choices\":[{\"message\":{\"role\":\"assistant\",\"content\":\"Empty response from model!\"},\"index\":0,\"finish_reason\":\"stop\"}],\"usage\":{\"prompt_tokens\":5,\"completion_tokens\":5,\"total_tokens\":10}}'\n"
     ]
    }
   ],
   "source": [
    "messages = [{\"role\": \"user\", \"content\": \"Tell me a joke!\"}]\n",
    "\n",
    "prompt_headers = {\"Authorization\": \"Bearer your_api_key_here\"}\n",
    "\n",
    "stream_mode = False\n",
    "data = {\n",
    "    \"model\": \"Llama-3.2-Instruct-1B\",\n",
    "    \"stream\": stream_mode,\n",
    "    \"messages\": messages,\n",
    "}\n",
    "\n",
    "\n",
    "# Perform the request and process the stream\n",
    "\n",
    "with requests.post(\n",
    "    \"http://127.0.0.1:8000/v1/chat/completions\",\n",
    "    headers=prompt_headers,\n",
    "    json=data,\n",
    "    stream=stream_mode,\n",
    ") as response:\n",
    "    sentence = []\n",
    "    for line in response.iter_lines():\n",
    "        if line:  # Filter out empty keep-alive new lines\n",
    "            print(line)"
   ]
  },
  {
   "cell_type": "markdown",
   "metadata": {},
   "source": []
  },
  {
   "cell_type": "code",
   "execution_count": null,
   "metadata": {},
   "outputs": [],
   "source": []
  }
 ],
 "metadata": {
  "kernelspec": {
   "display_name": ".venv",
   "language": "python",
   "name": "python3"
  },
  "language_info": {
   "codemirror_mode": {
    "name": "ipython",
    "version": 3
   },
   "file_extension": ".py",
   "mimetype": "text/x-python",
   "name": "python",
   "nbconvert_exporter": "python",
   "pygments_lexer": "ipython3",
   "version": "3.12.8"
  }
 },
 "nbformat": 4,
 "nbformat_minor": 2
}
